{
 "cells": [
  {
   "attachments": {},
   "cell_type": "markdown",
   "metadata": {},
   "source": [
    "## Imports"
   ]
  },
  {
   "cell_type": "code",
   "execution_count": 2,
   "metadata": {},
   "outputs": [],
   "source": [
    "import os\n",
    "import numpy as np\n",
    "import torch\n",
    "import albumentations as A\n",
    "import torchvision.transforms.functional as TF\n",
    "import torch.utils.checkpoint as cp\n",
    "import cv2\n",
    "\n",
    "from torch import nn, optim\n",
    "from torch.utils.data import Dataset, DataLoader\n",
    "from albumentations.pytorch.transforms import ToTensorV2\n",
    "from PIL import Image\n",
    "from matplotlib import pyplot as plt"
   ]
  },
  {
   "attachments": {},
   "cell_type": "markdown",
   "metadata": {},
   "source": [
    "## Dataset"
   ]
  },
  {
   "cell_type": "code",
   "execution_count": 46,
   "metadata": {},
   "outputs": [],
   "source": [
    "color_map = [1, 2, 3] #[outline, background, ground_truth, object(cat or dog)]"
   ]
  },
  {
   "cell_type": "code",
   "execution_count": 3,
   "metadata": {},
   "outputs": [],
   "source": [
    "train_transform = A.Compose(\n",
    "    [\n",
    "        A.Resize(width=130, height=130),\n",
    "        A.RandomCrop(width=128, height=128),\n",
    "        A.RandomRotate90(p=0.5),\n",
    "        A.HorizontalFlip(p=0.5),\n",
    "        A.VerticalFlip(p=0.3),\n",
    "        A.RGBShift(r_shift_limit=25, g_shift_limit=25, b_shift_limit=25, p=0.5),\n",
    "        A.OneOf([\n",
    "            A.Blur(blur_limit=3, p=0.5),\n",
    "            A.ColorJitter(p=0.5),\n",
    "        ], p=1.0),\n",
    "        A.Normalize(\n",
    "            mean=[0, 0, 0],\n",
    "            std=[1, 1, 1],\n",
    "            max_pixel_value=255,\n",
    "        ),\n",
    "        ToTensorV2(),\n",
    "    ]\n",
    ")"
   ]
  },
  {
   "cell_type": "code",
   "execution_count": 4,
   "metadata": {},
   "outputs": [],
   "source": [
    "val_transform = A.Compose(\n",
    "        [\n",
    "            A.Resize(width=130, height=130),\n",
    "            A.CenterCrop(width=128, height=128),\n",
    "            A.Normalize(\n",
    "                mean=[0.0, 0.0, 0.0],\n",
    "                std=[1.0, 1.0, 1.0],\n",
    "                max_pixel_value=255.0,\n",
    "            ),\n",
    "            ToTensorV2(),\n",
    "        ],\n",
    "    )"
   ]
  },
  {
   "cell_type": "code",
   "execution_count": 118,
   "metadata": {},
   "outputs": [],
   "source": [
    "def process_mask(mask, colormap, class_name):\n",
    "    output_mask = []\n",
    "    mask = np.array(mask)\n",
    "\n",
    "    for color in colormap:\n",
    "        cmap = np.all(np.equal(mask, color), axis=-1)\n",
    "        output_mask.append(cmap)\n",
    "\n",
    "    # To add a mask for class that have no value in image\n",
    "    extra_mask = np.zeros((128, 128)) \n",
    "\n",
    "    if class_name == \"dog\":\n",
    "        output_mask.insert(2, extra_mask)    \n",
    "\n",
    "    else:\n",
    "        output_mask.append(extra_mask)\n",
    "           \n",
    "    output_mask = np.stack(output_mask, axis=-1)\n",
    "    \n",
    "    output_mask = torch.tensor(output_mask).float().permute(2, 0, 1)\n",
    "    \n",
    "    return output_mask"
   ]
  },
  {
   "cell_type": "code",
   "execution_count": 119,
   "metadata": {},
   "outputs": [],
   "source": [
    "class CarvanaDataset(Dataset):\n",
    "    \n",
    "    def __init__(self, image_dir, mask_dir, color_map, transform=None):\n",
    "        self.image_dir = image_dir\n",
    "        self.mask_dir = mask_dir\n",
    "        self.transform = transform\n",
    "        self.images = os.listdir(image_dir)\n",
    "        self.color_map = color_map\n",
    "\n",
    "    def __len__(self):\n",
    "        return len(self.images)\n",
    "\n",
    "    def __getitem__(self, index):\n",
    "        img_path = os.path.join(self.image_dir, self.images[index])\n",
    "        mask_path = os.path.join(self.mask_dir, self.images[index].replace(\".jpg\", \".png\"))\n",
    "        image = np.array(Image.open(img_path).convert(\"RGB\"))\n",
    "        mask = np.array(Image.open(mask_path).convert(\"L\"), dtype=np.float32)\n",
    "        mask = np.expand_dims(mask, axis=-1)\n",
    "\n",
    "        if self.images[index][0].isupper():\n",
    "            class_name = 'cat'\n",
    "        \n",
    "        else:\n",
    "            class_name = 'dog'\n",
    "\n",
    "        if self.transform is not None:   \n",
    "            augmentations = self.transform(image=image, mask=mask)\n",
    "            image = augmentations[\"image\"]\n",
    "            mask = augmentations[\"mask\"]\n",
    "            mask = process_mask(mask, self.color_map, class_name)      \n",
    "    \n",
    "        return image, mask"
   ]
  },
  {
   "cell_type": "code",
   "execution_count": 120,
   "metadata": {},
   "outputs": [],
   "source": [
    "image_dir = 'data/images/'\n",
    "mask_dir = 'data/annotations/trimaps/'"
   ]
  },
  {
   "cell_type": "code",
   "execution_count": 121,
   "metadata": {},
   "outputs": [],
   "source": [
    "train_dataset = CarvanaDataset(image_dir, mask_dir, transform=train_transform, color_map=color_map)\n",
    "valid_dataset = CarvanaDataset(image_dir, mask_dir, transform=val_transform, color_map=color_map)"
   ]
  },
  {
   "cell_type": "code",
   "execution_count": 122,
   "metadata": {},
   "outputs": [],
   "source": [
    "train_loader = DataLoader(dataset=train_dataset, batch_size=8, shuffle=True)\n",
    "valid_loader = DataLoader(dataset=valid_dataset, batch_size=8, shuffle=True)"
   ]
  },
  {
   "cell_type": "code",
   "execution_count": 142,
   "metadata": {},
   "outputs": [
    {
     "name": "stdout",
     "output_type": "stream",
     "text": [
      "dog\n",
      "torch.Size([4, 128, 128])\n",
      "torch.Size([3, 128, 128])\n",
      "dog\n",
      "torch.Size([4, 128, 128])\n",
      "torch.Size([4, 128, 128])\n"
     ]
    }
   ],
   "source": [
    "print(train_dataset[500][0].shape)\n",
    "print(train_dataset[500][1].shape)"
   ]
  },
  {
   "cell_type": "code",
   "execution_count": 125,
   "metadata": {},
   "outputs": [
    {
     "name": "stdout",
     "output_type": "stream",
     "text": [
      "[1 2 3]\n"
     ]
    },
    {
     "data": {
      "image/png": "[encoded data removed]",
      "text/plain": [
       "<Figure size 640x480 with 1 Axes>"
      ]
     },
     "metadata": {},
     "output_type": "display_data"
    }
   ],
   "source": [
    "# Load a grayscale image using OpenCV\n",
    "image = cv2.imread('data/annotations/trimaps/Bengal_10.png', cv2.IMREAD_GRAYSCALE)\n",
    "print(np.unique(image))\n",
    "\n",
    "# Display the grayscale image using matplotlib\n",
    "plt.imshow(image, cmap='gray')\n",
    "plt.axis('off')  # Optionally, turn off axis labels\n",
    "plt.show()"
   ]
  },
  {
   "cell_type": "code",
   "execution_count": null,
   "metadata": {},
   "outputs": [],
   "source": []
  }
 ],
 "metadata": {
  "kernelspec": {
   "display_name": "SegVenv",
   "language": "python",
   "name": "segvenv"
  },
  "language_info": {
   "codemirror_mode": {
    "name": "ipython",
    "version": 3
   },
   "file_extension": ".py",
   "mimetype": "text/x-python",
   "name": "python",
   "nbconvert_exporter": "python",
   "pygments_lexer": "ipython3",
   "version": "3.10.11"
  },
  "orig_nbformat": 4
 },
 "nbformat": 4,
 "nbformat_minor": 2
}
